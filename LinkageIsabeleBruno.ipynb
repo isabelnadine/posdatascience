{
 "cells": [
  {
   "cell_type": "code",
   "execution_count": 1,
   "metadata": {},
   "outputs": [],
   "source": [
    "datasetA = spark.read.csv('base_sintetica_ascii_a.csv', header=True, sep=',')\n",
    "datasetB = spark.read.csv('base_sintetica_ascii_b.csv', header=True, sep=',')"
   ]
  },
  {
   "cell_type": "code",
   "execution_count": 2,
   "metadata": {},
   "outputs": [
    {
     "name": "stdout",
     "output_type": "stream",
     "text": [
      "540\n",
      "143\n"
     ]
    }
   ],
   "source": [
    "print datasetA.count()\n",
    "print datasetB.count()\n"
   ]
  },
  {
   "cell_type": "code",
   "execution_count": 3,
   "metadata": {},
   "outputs": [],
   "source": [
    "import jellyfish\n",
    "import pyspark.sql.functions as F\n",
    "from pyspark.sql.types import StringType\n",
    "from pyspark.sql.types import FloatType"
   ]
  },
  {
   "cell_type": "code",
   "execution_count": 4,
   "metadata": {},
   "outputs": [],
   "source": [
    "def criaMetaphone(col):\n",
    "    if (col!=None) : \n",
    "        return jellyfish.metaphone(col.strip())\n",
    "    else:\n",
    "        return \"\"\n",
    "udf_criaMetaphone = F.udf(criaMetaphone, StringType())"
   ]
  },
  {
   "cell_type": "code",
   "execution_count": 5,
   "metadata": {},
   "outputs": [],
   "source": [
    "datasetA = datasetA.withColumn('dia_nasc', F.split(datasetA['data_nasc'], '/')[0].cast(FloatType()))\n",
    "datasetA = datasetA.withColumn('mes_nasc', F.split(datasetA['data_nasc'], '/')[1].cast(FloatType()))\n",
    "datasetA = datasetA.withColumn('ano_nasc', F.split(datasetA['data_nasc'], '/')[2].cast(FloatType()))\n",
    "\n",
    "datasetA = datasetA.fillna(0, subset=['dia_nasc', 'mes_nasc', 'ano_nasc'])\n",
    "\n",
    "datasetB = datasetB.withColumn('dia_nasc', F.split(datasetB['data_nasc'], '/')[0].cast(FloatType()))\n",
    "datasetB = datasetB.withColumn('mes_nasc', F.split(datasetB['data_nasc'], '/')[1].cast(FloatType()))\n",
    "datasetB = datasetB.withColumn('ano_nasc', F.split(datasetB['data_nasc'], '/')[2].cast(FloatType()))\n",
    "\n",
    "datasetB = datasetB.fillna(0, subset=['dia_nasc', 'mes_nasc', 'ano_nasc'])"
   ]
  },
  {
   "cell_type": "code",
   "execution_count": 6,
   "metadata": {},
   "outputs": [],
   "source": [
    "datasetA = datasetA.select([F.col(c).alias(c+'_a') for c in datasetA.columns])\n",
    "datasetB = datasetB.select([F.col(c).alias(c+'_b') for c in datasetB.columns])"
   ]
  },
  {
   "cell_type": "code",
   "execution_count": 7,
   "metadata": {},
   "outputs": [],
   "source": [
    "datasetA = datasetA.withColumn('phonetic_nome_a', udf_criaMetaphone(F.col('nome_a')))\n",
    "datasetA = datasetA.withColumn('phonetic_mae_a', udf_criaMetaphone(F.col('mae_a')))\n",
    "datasetA = datasetA.withColumn('phonetic_endereco_a', udf_criaMetaphone(F.col('endereco_a')))\n",
    "\n",
    "datasetB = datasetB.withColumn('phonetic_nome_b', udf_criaMetaphone(F.col('nome_b')))\n",
    "datasetB = datasetB.withColumn('phonetic_mae_b', udf_criaMetaphone(F.col('mae_b')))\n",
    "datasetB = datasetB.withColumn('phonetic_endereco_b', udf_criaMetaphone(F.col('endereco_b')))"
   ]
  },
  {
   "cell_type": "markdown",
   "metadata": {},
   "source": [
    "### Separando os atributos para o linkage"
   ]
  },
  {
   "cell_type": "code",
   "execution_count": 8,
   "metadata": {},
   "outputs": [],
   "source": [
    "datasetA = datasetA.select(['cpf_a','cep_a', 'cidade_a', 'dia_nasc_a', 'mes_nasc_a', 'ano_nasc_a',\n",
    "                            'endereco_a', 'estado_a', \n",
    "                            'phonetic_mae_a', 'nome_a', 'phonetic_endereco_a',\n",
    "                            'phonetic_nome_a', 'tipo_sanguineo_a'])\n",
    "\n",
    "datasetB = datasetB.select(['cpf_b','cep_b', 'cidade_b', 'dia_nasc_b', 'mes_nasc_b', 'ano_nasc_b',\n",
    "                            'endereco_b', 'estado_b', \n",
    "                            'phonetic_mae_b', 'nome_b', 'phonetic_endereco_b',\n",
    "                            'phonetic_nome_b', 'tipo_sanguineo_b']) "
   ]
  },
  {
   "cell_type": "markdown",
   "metadata": {},
   "source": [
    "### Fazendo o linkage"
   ]
  },
  {
   "cell_type": "code",
   "execution_count": 9,
   "metadata": {},
   "outputs": [],
   "source": [
    "dataset_linkage = datasetA.crossJoin(datasetB)"
   ]
  },
  {
   "cell_type": "code",
   "execution_count": 10,
   "metadata": {},
   "outputs": [
    {
     "data": {
      "text/html": [
       "<div>\n",
       "<style scoped>\n",
       "    .dataframe tbody tr th:only-of-type {\n",
       "        vertical-align: middle;\n",
       "    }\n",
       "\n",
       "    .dataframe tbody tr th {\n",
       "        vertical-align: top;\n",
       "    }\n",
       "\n",
       "    .dataframe thead th {\n",
       "        text-align: right;\n",
       "    }\n",
       "</style>\n",
       "<table border=\"1\" class=\"dataframe\">\n",
       "  <thead>\n",
       "    <tr style=\"text-align: right;\">\n",
       "      <th></th>\n",
       "      <th>cpf_a</th>\n",
       "      <th>cep_a</th>\n",
       "      <th>cidade_a</th>\n",
       "      <th>dia_nasc_a</th>\n",
       "      <th>mes_nasc_a</th>\n",
       "      <th>ano_nasc_a</th>\n",
       "      <th>endereco_a</th>\n",
       "      <th>estado_a</th>\n",
       "      <th>phonetic_mae_a</th>\n",
       "      <th>nome_a</th>\n",
       "      <th>...</th>\n",
       "      <th>dia_nasc_b</th>\n",
       "      <th>mes_nasc_b</th>\n",
       "      <th>ano_nasc_b</th>\n",
       "      <th>endereco_b</th>\n",
       "      <th>estado_b</th>\n",
       "      <th>phonetic_mae_b</th>\n",
       "      <th>nome_b</th>\n",
       "      <th>phonetic_endereco_b</th>\n",
       "      <th>phonetic_nome_b</th>\n",
       "      <th>tipo_sanguineo_b</th>\n",
       "    </tr>\n",
       "  </thead>\n",
       "  <tbody>\n",
       "    <tr>\n",
       "      <th>0</th>\n",
       "      <td>097.627.958-49</td>\n",
       "      <td>65090-677</td>\n",
       "      <td>Sao Luis</td>\n",
       "      <td>10.0</td>\n",
       "      <td>9.0</td>\n",
       "      <td>1948.0</td>\n",
       "      <td>2a Travessa do Ribeirao</td>\n",
       "      <td>MA</td>\n",
       "      <td>LS BTRS</td>\n",
       "      <td>Vicente Oliver Monteiro</td>\n",
       "      <td>...</td>\n",
       "      <td>22.0</td>\n",
       "      <td>11.0</td>\n",
       "      <td>1965.0</td>\n",
       "      <td>Avenida Mario Homem de Melo</td>\n",
       "      <td>RR</td>\n",
       "      <td>ISBL MRX ANTNL</td>\n",
       "      <td>Felipe Bruno dos Santos</td>\n",
       "      <td>AFNT MR HMM T ML</td>\n",
       "      <td>FLP BRN TS SNTS</td>\n",
       "      <td>AB-</td>\n",
       "    </tr>\n",
       "    <tr>\n",
       "      <th>1</th>\n",
       "      <td>097.627.958-49</td>\n",
       "      <td>65090-677</td>\n",
       "      <td>Sao Luis</td>\n",
       "      <td>10.0</td>\n",
       "      <td>9.0</td>\n",
       "      <td>1948.0</td>\n",
       "      <td>2a Travessa do Ribeirao</td>\n",
       "      <td>MA</td>\n",
       "      <td>LS BTRS</td>\n",
       "      <td>Vicente Oliver Monteiro</td>\n",
       "      <td>...</td>\n",
       "      <td>0.0</td>\n",
       "      <td>0.0</td>\n",
       "      <td>0.0</td>\n",
       "      <td>Rua Rio Cuiaba</td>\n",
       "      <td>MT</td>\n",
       "      <td>ALN ISTR</td>\n",
       "      <td>Marcio Heitor Silveira</td>\n",
       "      <td>R R KB</td>\n",
       "      <td>MRS HTR SLFR</td>\n",
       "      <td>AB-</td>\n",
       "    </tr>\n",
       "    <tr>\n",
       "      <th>2</th>\n",
       "      <td>097.627.958-49</td>\n",
       "      <td>65090-677</td>\n",
       "      <td>Sao Luis</td>\n",
       "      <td>10.0</td>\n",
       "      <td>9.0</td>\n",
       "      <td>1948.0</td>\n",
       "      <td>2a Travessa do Ribeirao</td>\n",
       "      <td>MA</td>\n",
       "      <td>LS BTRS</td>\n",
       "      <td>Vicente Oliver Monteiro</td>\n",
       "      <td>...</td>\n",
       "      <td>23.0</td>\n",
       "      <td>9.0</td>\n",
       "      <td>1961.0</td>\n",
       "      <td>Rua Romeu Lopes de Carvalho</td>\n",
       "      <td>SC</td>\n",
       "      <td>KRLN KBRL</td>\n",
       "      <td>Theo Mario Victor Barbosa</td>\n",
       "      <td>R RM LPS T KRFLH</td>\n",
       "      <td>0 MR FKTR BRBS</td>\n",
       "      <td>A-</td>\n",
       "    </tr>\n",
       "    <tr>\n",
       "      <th>3</th>\n",
       "      <td>097.627.958-49</td>\n",
       "      <td>65090-677</td>\n",
       "      <td>Sao Luis</td>\n",
       "      <td>10.0</td>\n",
       "      <td>9.0</td>\n",
       "      <td>1948.0</td>\n",
       "      <td>2a Travessa do Ribeirao</td>\n",
       "      <td>MA</td>\n",
       "      <td>LS BTRS</td>\n",
       "      <td>Vicente Oliver Monteiro</td>\n",
       "      <td>...</td>\n",
       "      <td>11.0</td>\n",
       "      <td>5.0</td>\n",
       "      <td>1981.0</td>\n",
       "      <td>None</td>\n",
       "      <td>CE</td>\n",
       "      <td>TRS BRN</td>\n",
       "      <td>Pietro Henrique de Paula</td>\n",
       "      <td></td>\n",
       "      <td>PTR HNRK T PL</td>\n",
       "      <td>AB-</td>\n",
       "    </tr>\n",
       "    <tr>\n",
       "      <th>4</th>\n",
       "      <td>097.627.958-49</td>\n",
       "      <td>65090-677</td>\n",
       "      <td>Sao Luis</td>\n",
       "      <td>10.0</td>\n",
       "      <td>9.0</td>\n",
       "      <td>1948.0</td>\n",
       "      <td>2a Travessa do Ribeirao</td>\n",
       "      <td>MA</td>\n",
       "      <td>LS BTRS</td>\n",
       "      <td>Vicente Oliver Monteiro</td>\n",
       "      <td>...</td>\n",
       "      <td>14.0</td>\n",
       "      <td>12.0</td>\n",
       "      <td>1941.0</td>\n",
       "      <td>Rua Pato Branco</td>\n",
       "      <td>MS</td>\n",
       "      <td>ALS LTX</td>\n",
       "      <td>Kaique Thiago de Paula</td>\n",
       "      <td>R PT BRNK</td>\n",
       "      <td>KK 0K T PL</td>\n",
       "      <td>A-</td>\n",
       "    </tr>\n",
       "  </tbody>\n",
       "</table>\n",
       "<p>5 rows × 26 columns</p>\n",
       "</div>"
      ],
      "text/plain": [
       "            cpf_a      cep_a  cidade_a  dia_nasc_a  mes_nasc_a  ano_nasc_a  \\\n",
       "0  097.627.958-49  65090-677  Sao Luis        10.0         9.0      1948.0   \n",
       "1  097.627.958-49  65090-677  Sao Luis        10.0         9.0      1948.0   \n",
       "2  097.627.958-49  65090-677  Sao Luis        10.0         9.0      1948.0   \n",
       "3  097.627.958-49  65090-677  Sao Luis        10.0         9.0      1948.0   \n",
       "4  097.627.958-49  65090-677  Sao Luis        10.0         9.0      1948.0   \n",
       "\n",
       "                endereco_a estado_a phonetic_mae_a                   nome_a  \\\n",
       "0  2a Travessa do Ribeirao       MA        LS BTRS  Vicente Oliver Monteiro   \n",
       "1  2a Travessa do Ribeirao       MA        LS BTRS  Vicente Oliver Monteiro   \n",
       "2  2a Travessa do Ribeirao       MA        LS BTRS  Vicente Oliver Monteiro   \n",
       "3  2a Travessa do Ribeirao       MA        LS BTRS  Vicente Oliver Monteiro   \n",
       "4  2a Travessa do Ribeirao       MA        LS BTRS  Vicente Oliver Monteiro   \n",
       "\n",
       "   ... dia_nasc_b mes_nasc_b ano_nasc_b                   endereco_b estado_b  \\\n",
       "0  ...       22.0       11.0     1965.0  Avenida Mario Homem de Melo       RR   \n",
       "1  ...        0.0        0.0        0.0               Rua Rio Cuiaba       MT   \n",
       "2  ...       23.0        9.0     1961.0  Rua Romeu Lopes de Carvalho       SC   \n",
       "3  ...       11.0        5.0     1981.0                         None       CE   \n",
       "4  ...       14.0       12.0     1941.0              Rua Pato Branco       MS   \n",
       "\n",
       "   phonetic_mae_b                     nome_b  phonetic_endereco_b  \\\n",
       "0  ISBL MRX ANTNL    Felipe Bruno dos Santos     AFNT MR HMM T ML   \n",
       "1        ALN ISTR     Marcio Heitor Silveira               R R KB   \n",
       "2       KRLN KBRL  Theo Mario Victor Barbosa     R RM LPS T KRFLH   \n",
       "3         TRS BRN   Pietro Henrique de Paula                        \n",
       "4         ALS LTX     Kaique Thiago de Paula            R PT BRNK   \n",
       "\n",
       "   phonetic_nome_b tipo_sanguineo_b  \n",
       "0  FLP BRN TS SNTS              AB-  \n",
       "1     MRS HTR SLFR              AB-  \n",
       "2   0 MR FKTR BRBS               A-  \n",
       "3    PTR HNRK T PL              AB-  \n",
       "4       KK 0K T PL               A-  \n",
       "\n",
       "[5 rows x 26 columns]"
      ]
     },
     "execution_count": 10,
     "metadata": {},
     "output_type": "execute_result"
    }
   ],
   "source": [
    "dataset_linkage.toPandas().head()"
   ]
  },
  {
   "cell_type": "code",
   "execution_count": 11,
   "metadata": {},
   "outputs": [],
   "source": [
    "max_porcentagem_diferenca_dias = abs(1.0 - 31.0) / ((1.0 + 31.0) / 2.0)\n",
    "max_porcentagem_diferenca_meses = abs(1.0 - 12.0) / ((1.0 + 12.0) / 2.0)\n",
    "\n",
    "max_ano_a = dataset_linkage.agg({\"ano_nasc_a\": \"max\"}).collect()[0][0]\n",
    "max_ano_b = dataset_linkage.agg({\"ano_nasc_b\": \"max\"}).collect()[0][0]\n",
    "\n",
    "max_ano = max(max_ano_a, max_ano_b)\n",
    "\n",
    "min_ano_a = dataset_linkage.agg({\"ano_nasc_a\": \"min\"}).collect()[0][0]\n",
    "min_ano_b = dataset_linkage.agg({\"ano_nasc_b\": \"min\"}).collect()[0][0]\n",
    "\n",
    "min_ano = min(min_ano_a, min_ano_b)\n",
    "\n",
    "max_porcentagem_diferenca_anos = abs(min_ano - max_ano) / ((min_ano + max_ano) / 2.0)"
   ]
  },
  {
   "cell_type": "code",
   "execution_count": 12,
   "metadata": {},
   "outputs": [],
   "source": [
    "def compare( dia_nasc_a, mes_nasc_a, ano_nasc_a, cep_a, cidade_a, nome_a, endereco_a, estado_a, phonetic_nome_a, phonetic_mae_a, phonetic_endereco_a, ts_a,\n",
    "            dia_nasc_b, mes_nasc_b, ano_nasc_b, cep_b, cidade_b, nome_b, endereco_b, estado_b, phonetic_nome_b, phonetic_mae_b, phonetic_endereco_b, ts_b):\n",
    "    sim = 0\n",
    "    \n",
    "    sim_data = 0.0\n",
    "    \n",
    "    try:\n",
    "        sim_data += max_porcentagem_diferenca_dias - (float(abs(dia_nasc_a - dia_nasc_b) / ((dia_nasc_a + dia_nasc_b) / 2)))\n",
    "    except:\n",
    "        pass\n",
    "    \n",
    "    try:\n",
    "        sim_data += max_porcentagem_diferenca_meses - (float(abs(mes_nasc_a - mes_nasc_b) / ((mes_nasc_a + mes_nasc_b) / 2)))\n",
    "    except:\n",
    "        pass\n",
    "    \n",
    "    try:\n",
    "        sim_data += max_porcentagem_diferenca_anos - (float(abs(ano_nasc_a - ano_nasc_b) / ((ano_nasc_a + ano_nasc_b) / 2)))\n",
    "    except:\n",
    "        pass\n",
    "    \n",
    "    sim_nominais = jellyfish.jaro_winkler(unicode(cidade_a), unicode(cidade_b))\n",
    "    sim_nominais += jellyfish.jaro_winkler(unicode(estado_a), unicode(estado_b))\n",
    "    sim_nominais += jellyfish.jaro_winkler(unicode(cep_a), unicode(cep_b))\n",
    "    sim_nominais += jellyfish.jaro_winkler(unicode(endereco_a), unicode(endereco_b))   \n",
    "    sim_nominais += jellyfish.jaro_winkler(unicode(phonetic_nome_a), unicode(phonetic_nome_b))\n",
    "    sim_nominais += jellyfish.jaro_winkler(unicode(phonetic_mae_a), unicode(phonetic_mae_b))\n",
    "    sim_nominais += jellyfish.jaro_winkler(unicode(phonetic_endereco_a), unicode(phonetic_endereco_b))\n",
    "    \n",
    "    \n",
    "    # Comparando categorias\n",
    "    # Note que Hamming é uma distancia, então para saber a similiarade, precisamos\n",
    "    # encontrar o complemento da medida. \n",
    "    sim_cat = 1 - (jellyfish.hamming_distance(unicode(ts_a), unicode(ts_b)))\n",
    "   \n",
    "    \n",
    "    # Media aritmetica simples\n",
    "    sim = abs(float(sim_nominais + sim_cat + sim_data)/11)\n",
    "    \n",
    "    return sim\n",
    "udf_compare = F.udf(compare, FloatType())"
   ]
  },
  {
   "cell_type": "code",
   "execution_count": 13,
   "metadata": {},
   "outputs": [],
   "source": [
    "result_linkage = dataset_linkage.withColumn('similarity', udf_compare(F.col('dia_nasc_a'), F.col('mes_nasc_a'), F.col('ano_nasc_a'),\n",
    "                                                                        F.col('cep_a'), F.col('cidade_a'), F.col('nome_a'), F.col('endereco_a'),F.col('estado_a'), F.col('phonetic_nome_a'), F.col('phonetic_mae_a'),  F.col('phonetic_endereco_a'),  F.col('tipo_sanguineo_a'), \n",
    "                                                                        F.col('dia_nasc_b'), F.col('mes_nasc_b'), F.col('ano_nasc_b'), F.col('cep_b'), F.col('cidade_b'), F.col('nome_b'), F.col('endereco_b'),F.col('estado_b'), F.col('phonetic_nome_b'), F.col('phonetic_mae_b'), F.col('phonetic_endereco_b'), F.col('tipo_sanguineo_b')))\n",
    "    "
   ]
  },
  {
   "cell_type": "code",
   "execution_count": 14,
   "metadata": {},
   "outputs": [],
   "source": [
    "df = result_linkage.select(['cpf_a', 'cpf_b', 'similarity']).orderBy('similarity', ascending=False).drop_duplicates(['cpf_b'])"
   ]
  },
  {
   "cell_type": "code",
   "execution_count": 15,
   "metadata": {},
   "outputs": [
    {
     "name": "stdout",
     "output_type": "stream",
     "text": [
      "+--------------+--------------+----------+\n",
      "|         cpf_a|         cpf_b|similarity|\n",
      "+--------------+--------------+----------+\n",
      "|081.783.955-09|081.783.955-09| 1.2333916|\n",
      "|488.380.897-10|488.380.897-10| 1.2333916|\n",
      "|475.612.908-02|475.612.908-02| 1.2333916|\n",
      "|625.938.432-76|625.938.432-76| 1.2333916|\n",
      "|420.868.827-00|420.868.827-00| 1.2333916|\n",
      "|390.371.546-89|390.371.546-89| 1.2333916|\n",
      "|249.678.124-57|249.678.124-57| 1.1424825|\n",
      "|055.302.287-39|055.302.287-39| 1.2333916|\n",
      "|506.865.202-46|506.865.202-46| 1.2333916|\n",
      "|327.630.596-86|327.630.596-86| 1.1837283|\n",
      "|782.467.545-99|535.871.894-04| 0.9658562|\n",
      "|248.115.138-00|248.115.138-00| 1.2333916|\n",
      "|662.831.369-74|442.694.244-60|0.92141384|\n",
      "|856.757.448-00|455.643.269-38| 1.0816686|\n",
      "|295.718.231-98|295.718.231-98| 1.1424825|\n",
      "|134.836.403-39|134.836.403-39| 1.1841491|\n",
      "|872.870.813-00|872.870.813-00| 1.2297553|\n",
      "|506.359.495-63|506.359.495-63| 1.2333916|\n",
      "|895.160.103-00|895.160.103-00| 1.2333916|\n",
      "|429.056.400-30|429.056.400-30| 1.2333916|\n",
      "+--------------+--------------+----------+\n",
      "only showing top 20 rows\n",
      "\n"
     ]
    }
   ],
   "source": [
    "df.show()"
   ]
  },
  {
   "cell_type": "code",
   "execution_count": 16,
   "metadata": {},
   "outputs": [],
   "source": [
    "df.toPandas().to_csv('results_for_accuracy_calc.csv', index = False)"
   ]
  },
  {
   "cell_type": "code",
   "execution_count": 17,
   "metadata": {},
   "outputs": [
    {
     "data": {
      "text/plain": [
       "96"
      ]
     },
     "execution_count": 17,
     "metadata": {},
     "output_type": "execute_result"
    }
   ],
   "source": [
    "df.filter(F.col('cpf_a') == F.col('cpf_b')).count()"
   ]
  }
 ],
 "metadata": {
  "kernelspec": {
   "display_name": "Python 2",
   "language": "python",
   "name": "python2"
  },
  "language_info": {
   "codemirror_mode": {
    "name": "ipython",
    "version": 2
   },
   "file_extension": ".py",
   "mimetype": "text/x-python",
   "name": "python",
   "nbconvert_exporter": "python",
   "pygments_lexer": "ipython2",
   "version": "2.7.16"
  }
 },
 "nbformat": 4,
 "nbformat_minor": 2
}
